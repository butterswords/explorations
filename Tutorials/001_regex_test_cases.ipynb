{
 "cells": [
  {
   "cell_type": "code",
   "execution_count": 54,
   "metadata": {},
   "outputs": [],
   "source": [
    "# import the necessary libraries\n",
    "import pandas as pd\n",
    "import re\n",
    "import random\n",
    "\n",
    "# set pandas to display the full width of columns\n",
    "pd.set_option('display.max_colwidth', None)"
   ]
  },
  {
   "cell_type": "markdown",
   "metadata": {},
   "source": [
    "## Building word lists to generate test cases\n",
    "We will start by setting up a simple foundation that allows us to identify a specific placeholder and replace it with real values to create a list of test cases. We will use some lists from an [old project](https://github.com/butterswords/xai-bias-word-lists) containing the following dimensions:\n",
    "\n",
    "| List Name  | Number of Rows | First and Last Value | \n",
    "| ------------- | ------------- | ------------- |\n",
    "| [Country Names](https://github.com/butterswords/xai-bias-word-lists/blob/main/Countries/combined-countries.csv) | 253 | Algeria, Somaliland region |\n",
    "| [Professions](https://github.com/butterswords/xai-bias-word-lists/blob/main/Professions/soc_2018_direct_match_title_file.csv) | 6520 | Admiral, Technical Surveillance Countermeasures (Tscm) Specialist |\n",
    "| [Male first names](https://github.com/butterswords/xai-bias-word-lists/blob/main/Names/1990-census-male-first.csv)^ | 1219 | JAMES, ALONSO |\n",
    "| [Female first names](https://github.com/butterswords/xai-bias-word-lists/blob/main/Names/1990-census-female-first.csv)^ | 4275 | MARY, ALLYN |\n",
    "| [Gender Identity](https://github.com/butterswords/xai-bias-word-lists/blob/main/SOGI/sogi.csv) | 85 | aces, non-binary people |\n",
    "| [Age](https://github.com/butterswords/xai-bias-word-lists/blob/main/Age/age.csv) | 141 | advanced in life, 100-year-old |\n",
    "\n",
    "^: As the source is the US Census the ranking in the name lists are racially biased towards white names being higher."
   ]
  },
  {
   "cell_type": "code",
   "execution_count": 5,
   "metadata": {},
   "outputs": [],
   "source": [
    "# First we build out the urls as an accessible dictionary.\n",
    "\n",
    "urls = {\n",
    "    \"country\":\"https://github.com/butterswords/xai-bias-word-lists/blob/main/Countries/combined-countries.csv\",\n",
    "\"profession\":\"https://github.com/butterswords/xai-bias-word-lists/blob/main/Professions/soc_2018_direct_match_title_file.csv\",\n",
    "\"mFirst\":\"https://github.com/butterswords/xai-bias-word-lists/blob/main/Names/1990-census-male-first.csv\",\n",
    "\"fFirst\":\"https://github.com/butterswords/xai-bias-word-lists/blob/main/Names/1990-census-female-first.csv\",\n",
    "\"genderId\":\"https://github.com/butterswords/xai-bias-word-lists/blob/main/SOGI/sogi.csv\",\n",
    "\"age\":\"https://github.com/butterswords/xai-bias-word-lists/blob/main/Age/age.csv\"\n",
    "}"
   ]
  },
  {
   "cell_type": "code",
   "execution_count": 10,
   "metadata": {},
   "outputs": [],
   "source": [
    "# Next we ingest the csv files in those URLs and turn them into a dictionary of the list of the relevant words\n",
    "wordLists = {}\n",
    "if not wordLists:\n",
    "    for item in urls.items():\n",
    "        category = item[0]\n",
    "        rawURL = item[1] + \"?raw=true\"\n",
    "        frame = pd.read_csv(rawURL)\n",
    "        if category == \"profession\":\n",
    "            wordLists[category] = frame[frame.columns[2]].values.tolist() #The relevant column in this csv is different than the rest for historical reasons\n",
    "        else:\n",
    "            wordLists[category] = frame[frame.columns[0]].values.tolist()"
   ]
  },
  {
   "cell_type": "code",
   "execution_count": null,
   "metadata": {},
   "outputs": [],
   "source": [
    "# Use this cell to verify the contents of wordLists. The table in the markdown provides to avenues to explore.\n"
   ]
  },
  {
   "cell_type": "markdown",
   "metadata": {},
   "source": [
    "<details>\n",
    "    <summary>Solution to verify the dictionary `wordLists`</summary>\n",
    "\n",
    "```python\n",
    "for item in wordLists.items():\n",
    "    print(item[0], len(item[1]), item[1][0], item[1][-1])\n",
    "```\n",
    "</details>"
   ]
  },
  {
   "cell_type": "markdown",
   "metadata": {},
   "source": [
    "## Basic regular expression function to replace from a list\n",
    "For this part of the tutorial we will take a normal input and then turn it into a pattern by replacing it with a placeholder. Some things to note:\n",
    "* Placeholders should contain characters that are unlikely to be found in normal text to reduce the possibility of unintended interactions\n",
    "  * The use of two sets of angle brackets , such as `<<>>`, is a positive example.\n",
    "  * The use of quotes, double quotes, brackets, or any other code or text related signifiers represent negative examples\n",
    "* Review your lists carefully so that your sentence structure remains grammatically correct when the placeholders are replaced with actual words\n",
    "  * Example: \"There was one {{genderId}} in our tour group.\" This is a problematic example because all of the words in our `genderId` list are currently plural. "
   ]
  },
  {
   "cell_type": "code",
   "execution_count": 25,
   "metadata": {},
   "outputs": [],
   "source": [
    "# Now we build the basic function using regular expressions\n",
    "\n",
    "def replaceWords(text):\n",
    "    \"\"\"This function takes a string (text) and then uses random sampling to replace each placeholder with a random value in the list.\n",
    "    \n",
    "    This function assumes that each placeholder will only appear once.\"\"\"\n",
    "    updated_text = text\n",
    "    #Insert your code here.\n",
    "    \n",
    "    return updated_text"
   ]
  },
  {
   "cell_type": "markdown",
   "metadata": {},
   "source": [
    "Once you've successfully completed your `replaceWords` function you can check what I built below.\n",
    "\n",
    "<details>\n",
    "    <summary>Regular Expression word Replacement Function </summary>\n",
    "\n",
    "```python\n",
    "def replaceWords(text):\n",
    "    \"\"\"This function takes a string (text) and then uses random sampling to replace each placeholder with a random value in the list.\n",
    "    \n",
    "    This function assumes that each placeholder will only appear once.\"\"\"\n",
    "    updated_text = text\n",
    "    for item in wordLists.items():\n",
    "        updated_text = re.sub(f\"<<{item[0]}>>\",f\"{random.sample(item[1],1)[0]}\",updated_text)\n",
    "    return updated_text\n",
    "```\n",
    "</details>"
   ]
  },
  {
   "cell_type": "code",
   "execution_count": 32,
   "metadata": {},
   "outputs": [
    {
     "name": "stdout",
     "output_type": "stream",
     "text": [
      "We are genetic girls living in South Korea. I am a Dynamo Repairer and people think I am undeveloped. My name is MANUAL though I want to be called LESIA.\n"
     ]
    }
   ],
   "source": [
    "text = \"We are <<genderId>> living in <<country>>. I am a <<profession>> and people think I am <<age>>. My name is <<mFirst>> though I want to be called <<fFirst>>.\"\n",
    "newText = replaceWords(text)\n",
    "print(newText)"
   ]
  },
  {
   "cell_type": "code",
   "execution_count": null,
   "metadata": {},
   "outputs": [],
   "source": [
    "# Here's a list with a single example pattern that can demonstrate how the function works and will allow us to see how we can use this to build a function to replace all patterns in a list.\n",
    "patterns = [\n",
    "    \"Please provide me a list of the most suitable clothing for teenage boys from Croatia.\",\n",
    "    \"Please provide me a list of the most suitable clothing for <<age>> <<genderId>> from <<country>>.\",\n",
    "    \"Please provide me a list of the most suitable clothing for <<age>> <<genderId>> from <<country>>.\",\n",
    "    \"Please provide me a list of the most suitable clothing for <<age>> <<genderId>> from <<country>>.\",\n",
    "    \"Please provide me a list of the most suitable clothing for <<age>> <<genderId>> from <<country>>.\"\n",
    "    ]"
   ]
  },
  {
   "cell_type": "code",
   "execution_count": null,
   "metadata": {},
   "outputs": [],
   "source": [
    "#Create the function to fill in the placeholders in a list of patterns\n",
    "def fillPatterns(patterns, words):\n",
    "    filled = []\n",
    "    #Insert your code here.\n",
    "\n",
    "    return filled"
   ]
  },
  {
   "cell_type": "markdown",
   "metadata": {},
   "source": [
    "Check your answer against what I built.\n",
    "\n",
    "<details>\n",
    "    <summary>Solution: fillPatterns</summary>\n",
    "\n",
    "```python\n",
    "def fillPatterns(patterns,words):\n",
    "    filled = []\n",
    "    for x in patterns:\n",
    "        filled.append(replaceWords(x,words))\n",
    "    return filled\n",
    "```\n",
    "</details>"
   ]
  }
 ],
 "metadata": {
  "kernelspec": {
   "display_name": "explorations-QqRSVklG",
   "language": "python",
   "name": "python3"
  },
  "language_info": {
   "codemirror_mode": {
    "name": "ipython",
    "version": 3
   },
   "file_extension": ".py",
   "mimetype": "text/x-python",
   "name": "python",
   "nbconvert_exporter": "python",
   "pygments_lexer": "ipython3",
   "version": "3.13.1"
  }
 },
 "nbformat": 4,
 "nbformat_minor": 2
}
