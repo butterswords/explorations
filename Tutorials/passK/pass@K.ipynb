{
 "cells": [
  {
   "cell_type": "markdown",
   "metadata": {},
   "source": [
    "$$\n",
    "\\quad \\text{pass@k} = 1 - \\mathbb{E}_{\\text{task}}\\left[ \\binom{n-c}{k} \\middle/  \\binom{n}{k}\\right]\n",
    "$$"
   ]
  },
  {
   "cell_type": "code",
   "execution_count": 2,
   "metadata": {},
   "outputs": [],
   "source": [
    "# Import the necessary requirements to work with the data \n",
    "from math import comb\n",
    "import pandas as pd"
   ]
  },
  {
   "cell_type": "code",
   "execution_count": 5,
   "metadata": {},
   "outputs": [],
   "source": [
    "def passAtK(frame,n:int,success=\"pass\"):\n",
    "    \"\"\"A function that takes a dataframe with the rows representing a single task/observation\n",
    "    and columns representing each run or pass. The metric pass^k is calculated to determine\n",
    "    reliability and consistency across the dataset as a whole.\n",
    "    \n",
    "    success = the value to be checked for success (note, the dataframe must include explicit success, it cannot be calculated dynamically within this function)\n",
    "    n = the total number of runs to be measured\n",
    "    k = the current pass or run\n",
    "    c = the current number of successes per row\n",
    "    \"\"\"\n",
    "    total = 0\n",
    "    for row in frame.itertuples(index=False, name=\"task\"):\n",
    "        k = 1\n",
    "        c = 0\n",
    "        for i in range(1,n+1):\n",
    "            current = 1 if row[i] == success else 0\n",
    "            c += current\n",
    "            left = n-c\n",
    "            total += 1 - comb(left,k)/comb(n,k)\n",
    "            #print(f'n={n},c={c},n-c={left},k={k},current total ={total}')\n",
    "            k += 1\n",
    "    return total / len(frame)"
   ]
  },
  {
   "cell_type": "code",
   "execution_count": 7,
   "metadata": {},
   "outputs": [
    {
     "name": "stdout",
     "output_type": "stream",
     "text": [
      "7.001796157059313\n"
     ]
    }
   ],
   "source": [
    "data = pd.read_csv(\"Data/passHat10_data.csv\")\n",
    "print(passAtK(data,10))"
   ]
  }
 ],
 "metadata": {
  "kernelspec": {
   "display_name": "explorations-K7AMdZAH",
   "language": "python",
   "name": "python3"
  },
  "language_info": {
   "codemirror_mode": {
    "name": "ipython",
    "version": 3
   },
   "file_extension": ".py",
   "mimetype": "text/x-python",
   "name": "python",
   "nbconvert_exporter": "python",
   "pygments_lexer": "ipython3",
   "version": "3.10.11"
  }
 },
 "nbformat": 4,
 "nbformat_minor": 2
}
