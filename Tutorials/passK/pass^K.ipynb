{
 "cells": [
  {
   "cell_type": "markdown",
   "metadata": {},
   "source": [
    "# Pass^K Tutorial\n",
    "\n",
    "This tutorial is based on the metric proposed in this [arxiv paper](https://arxiv.org/pdf/2406.12045), which is called \"Pass^K\". They developed the metric to expose the reliability of AI agents across multiple attempts because it matters less that an agent can achieve success once. They state:\n",
    "\n",
    "> For real-world agent tasks requiring reliability and consistency like\n",
    "customer service, we propose a new metric – pass^k (pass hat k), defined as the chance that all k\n",
    "i.i.d. task trials are successful, averaged across tasks. \n",
    "\n",
    "In there paper they define \"Pass^K\" with the equation: \n",
    "\n",
    "$$\n",
    " \\text{pass\\textasciicircum k} = \\mathbb{E}_{\\text{task}}\\left[ \\binom{c}{k} \\middle/ \\binom{n}{k} \\right]\n",
    "$$\n",
    "\n",
    "Where the variables in the formula are as follows:\n",
    "* `c` is the number of successes\n",
    "* `n` is the total number of trials for each task \n",
    "  * Note if this feels weird, you're not alone. I struggled to see why they wouldn't make this \"k\", and then define n as the current trial you're on...\n",
    "* `k` is the current trial number for the task\n",
    "\n",
    "In this tutorial you will build a function that allows you to calculate `pass^k` for a dataframe with any number of iterations. We're taking it out of the context of agents to attempt to generalize it to nondeterministic systems so we can leverage it for any Generative AI application."
   ]
  },
  {
   "cell_type": "markdown",
   "metadata": {},
   "source": [
    "## Getting started \n",
    "Start by importing the data and requirements. Then learn more about the shape and nature of your data by running the following commands:\n",
    "* `tutorial_data.info()`\n",
    "* `tutorial_data.describe()`"
   ]
  },
  {
   "cell_type": "code",
   "execution_count": 3,
   "metadata": {},
   "outputs": [],
   "source": [
    "# Import the necessary requirements to work with the data \n",
    "from math import comb\n",
    "import pandas as pd"
   ]
  },
  {
   "cell_type": "code",
   "execution_count": 14,
   "metadata": {},
   "outputs": [
    {
     "data": {
      "text/html": [
       "<div>\n",
       "<style scoped>\n",
       "    .dataframe tbody tr th:only-of-type {\n",
       "        vertical-align: middle;\n",
       "    }\n",
       "\n",
       "    .dataframe tbody tr th {\n",
       "        vertical-align: top;\n",
       "    }\n",
       "\n",
       "    .dataframe thead th {\n",
       "        text-align: right;\n",
       "    }\n",
       "</style>\n",
       "<table border=\"1\" class=\"dataframe\">\n",
       "  <thead>\n",
       "    <tr style=\"text-align: right;\">\n",
       "      <th></th>\n",
       "      <th>ID</th>\n",
       "      <th>Pass1</th>\n",
       "      <th>Pass2</th>\n",
       "      <th>Pass3</th>\n",
       "      <th>Pass4</th>\n",
       "      <th>Pass5</th>\n",
       "      <th>Pass6</th>\n",
       "      <th>Pass7</th>\n",
       "      <th>Pass8</th>\n",
       "      <th>Pass9</th>\n",
       "      <th>Pass10</th>\n",
       "    </tr>\n",
       "  </thead>\n",
       "  <tbody>\n",
       "    <tr>\n",
       "      <th>0</th>\n",
       "      <td>task1</td>\n",
       "      <td>pass</td>\n",
       "      <td>pass</td>\n",
       "      <td>pass</td>\n",
       "      <td>fail</td>\n",
       "      <td>pass</td>\n",
       "      <td>fail</td>\n",
       "      <td>fail</td>\n",
       "      <td>fail</td>\n",
       "      <td>pass</td>\n",
       "      <td>fail</td>\n",
       "    </tr>\n",
       "    <tr>\n",
       "      <th>1</th>\n",
       "      <td>task2</td>\n",
       "      <td>pass</td>\n",
       "      <td>fail</td>\n",
       "      <td>fail</td>\n",
       "      <td>fail</td>\n",
       "      <td>pass</td>\n",
       "      <td>fail</td>\n",
       "      <td>pass</td>\n",
       "      <td>pass</td>\n",
       "      <td>fail</td>\n",
       "      <td>pass</td>\n",
       "    </tr>\n",
       "    <tr>\n",
       "      <th>2</th>\n",
       "      <td>task3</td>\n",
       "      <td>pass</td>\n",
       "      <td>pass</td>\n",
       "      <td>pass</td>\n",
       "      <td>fail</td>\n",
       "      <td>fail</td>\n",
       "      <td>fail</td>\n",
       "      <td>fail</td>\n",
       "      <td>pass</td>\n",
       "      <td>fail</td>\n",
       "      <td>fail</td>\n",
       "    </tr>\n",
       "    <tr>\n",
       "      <th>3</th>\n",
       "      <td>task4</td>\n",
       "      <td>pass</td>\n",
       "      <td>pass</td>\n",
       "      <td>pass</td>\n",
       "      <td>pass</td>\n",
       "      <td>pass</td>\n",
       "      <td>pass</td>\n",
       "      <td>fail</td>\n",
       "      <td>pass</td>\n",
       "      <td>fail</td>\n",
       "      <td>fail</td>\n",
       "    </tr>\n",
       "    <tr>\n",
       "      <th>4</th>\n",
       "      <td>task5</td>\n",
       "      <td>pass</td>\n",
       "      <td>fail</td>\n",
       "      <td>pass</td>\n",
       "      <td>pass</td>\n",
       "      <td>pass</td>\n",
       "      <td>fail</td>\n",
       "      <td>fail</td>\n",
       "      <td>pass</td>\n",
       "      <td>fail</td>\n",
       "      <td>fail</td>\n",
       "    </tr>\n",
       "  </tbody>\n",
       "</table>\n",
       "</div>"
      ],
      "text/plain": [
       "      ID Pass1 Pass2 Pass3 Pass4 Pass5 Pass6 Pass7 Pass8 Pass9 Pass10\n",
       "0  task1  pass  pass  pass  fail  pass  fail  fail  fail  pass   fail\n",
       "1  task2  pass  fail  fail  fail  pass  fail  pass  pass  fail   pass\n",
       "2  task3  pass  pass  pass  fail  fail  fail  fail  pass  fail   fail\n",
       "3  task4  pass  pass  pass  pass  pass  pass  fail  pass  fail   fail\n",
       "4  task5  pass  fail  pass  pass  pass  fail  fail  pass  fail   fail"
      ]
     },
     "execution_count": 14,
     "metadata": {},
     "output_type": "execute_result"
    }
   ],
   "source": [
    "#load the tutorial data into a csv\n",
    "tutorial_data = pd.read_csv(\"Data/passHat10_data.csv\")\n",
    "\n",
    "#print the head of the dataframe so you can see it\n",
    "tutorial_data.head()"
   ]
  },
  {
   "cell_type": "code",
   "execution_count": null,
   "metadata": {},
   "outputs": [],
   "source": [
    "#Cell where you can do some simple summarization to explore the data."
   ]
  },
  {
   "cell_type": "markdown",
   "metadata": {},
   "source": [
    "## A brute force implementation of how to calculate pass^1\n",
    "\n",
    "We will start by taking just the first column `Pass1` and calculating the metric for this dataset.\n",
    "\n",
    "By doing this you will explore:\n",
    "* extracting data from a data frame into a list\n",
    "* encoding the mathematical formula for pass^1 in python\n",
    "* looping through a list to calculate pass^1 for each index\n",
    "* validating your work"
   ]
  },
  {
   "cell_type": "code",
   "execution_count": 15,
   "metadata": {},
   "outputs": [
    {
     "name": "stdout",
     "output_type": "stream",
     "text": [
      "Values: ['pass', 'pass', 'pass', 'pass', 'pass', 'pass', 'pass', 'pass', 'fail', 'fail', 'pass', 'fail', 'pass', 'pass', 'fail', 'pass', 'fail', 'pass', 'fail']\n"
     ]
    }
   ],
   "source": [
    "# Turn a column in a dataframe into a list\n",
    "pass1_values = tutorial_data.Pass1.values.tolist()\n",
    "print(\"Values:\", pass1_values)"
   ]
  },
  {
   "cell_type": "code",
   "execution_count": 16,
   "metadata": {},
   "outputs": [],
   "source": [
    "# encode the mathematical formula into a function for a naive pass^1 function\n",
    "def passHat1(list:list):\n",
    "    '''This function takes a list and then iterates over it to calculate the pass^1 value\n",
    "    for it. It then adds that value to the total. At the end of the list it returns the\n",
    "    total divided by the length of the list to provide the average/expected value.'''\n",
    "    total = 0\n",
    "    for n in list:\n",
    "        c = 1 if n == \"pass\" else 0\n",
    "        total += comb(c,1)/comb(1,1)\n",
    "    return total / len(list)"
   ]
  },
  {
   "cell_type": "code",
   "execution_count": 17,
   "metadata": {},
   "outputs": [
    {
     "name": "stdout",
     "output_type": "stream",
     "text": [
      "0.6842105263157895\n"
     ]
    }
   ],
   "source": [
    "print(passHat1(pass1_values))"
   ]
  },
  {
   "cell_type": "markdown",
   "metadata": {},
   "source": [
    "## Preparation for building your pass^K function\n",
    "Now that you've seen a simple implementation for pass^1 it's time for you to build your own pass^K function that will traverse a dataframe of any size. To do this you will need the function to do the following three things:\n",
    "1. iterate over every task (i.e., row) in the data frame\n",
    "2. increase `k` as you iterate over the column its in (i.e., for `Pass1` k == 1 and `Pass2` k ==2)\n",
    "3. sum the successes across a single task to make sure `c` is correct at each step of the iteration\n",
    "4. use the python version of the formula `comb(c,k) / comb(n,k)` to calculate the metric per data point\n",
    "5. average across the rows in the dataframe to account for the expected value in the metric\n",
    "\n",
    "To support you in ensuring your values are correct I've provided `passK_reference_data.csv` which includes the correct calculation for the following pass^K:\n",
    "* pass^1 == 68.42%\n",
    "* pass^3 == 61.40%\n",
    "* pass^6 == 22.02%\n",
    "* pass^10 == 07.98%\n",
    "\n",
    "To do this directly in pandas you will want to use `df.itertuples()` and you can see the documentation for it [here](https://pandas.pydata.org/docs/reference/api/pandas.DataFrame.itertuples.html). This will also provide you other options you can explore."
   ]
  },
  {
   "cell_type": "code",
   "execution_count": 80,
   "metadata": {},
   "outputs": [],
   "source": [
    "#I've provided the variables I used to complete this, with a default value for success\n",
    "#based on the fact that the tutorial data has \"pass\" and \"fail\".\n",
    "def passHatK(frame,n:int,success=\"pass\"):\n",
    "    total = 0\n",
    "    #insert your code here to calculate the pass^K metric\n",
    "    \n",
    "    return total/len(frame)"
   ]
  },
  {
   "cell_type": "code",
   "execution_count": 75,
   "metadata": {},
   "outputs": [
    {
     "name": "stdout",
     "output_type": "stream",
     "text": [
      "0.6842105263157895\n"
     ]
    }
   ],
   "source": [
    "print(passHatK(tutorial_data,1))"
   ]
  },
  {
   "cell_type": "code",
   "execution_count": 76,
   "metadata": {},
   "outputs": [
    {
     "name": "stdout",
     "output_type": "stream",
     "text": [
      "0.6140350877192984\n"
     ]
    }
   ],
   "source": [
    "print(passHatK(tutorial_data,3))"
   ]
  },
  {
   "cell_type": "code",
   "execution_count": 77,
   "metadata": {},
   "outputs": [
    {
     "name": "stdout",
     "output_type": "stream",
     "text": [
      "0.2201754385964912\n"
     ]
    }
   ],
   "source": [
    "print(passHatK(tutorial_data,6))"
   ]
  },
  {
   "cell_type": "code",
   "execution_count": 78,
   "metadata": {},
   "outputs": [
    {
     "name": "stdout",
     "output_type": "stream",
     "text": [
      "0.07976190476190476\n"
     ]
    }
   ],
   "source": [
    "print(passHatK(tutorial_data,10))"
   ]
  }
 ],
 "metadata": {
  "kernelspec": {
   "display_name": "explorations-K7AMdZAH",
   "language": "python",
   "name": "python3"
  },
  "language_info": {
   "codemirror_mode": {
    "name": "ipython",
    "version": 3
   },
   "file_extension": ".py",
   "mimetype": "text/x-python",
   "name": "python",
   "nbconvert_exporter": "python",
   "pygments_lexer": "ipython3",
   "version": "3.10.11"
  }
 },
 "nbformat": 4,
 "nbformat_minor": 2
}
